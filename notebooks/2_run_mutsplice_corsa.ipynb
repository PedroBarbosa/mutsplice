{
 "cells": [
  {
   "cell_type": "code",
   "execution_count": 1,
   "metadata": {},
   "outputs": [],
   "source": [
    "import pandas as pd \n",
    "import seaborn as sns\n",
    "sns.set(font_scale=1)\n",
    "from plotnine import *\n",
    "from tqdm.notebook import tqdm\n",
    "import seaborn as sns\n",
    "import pandas as pd\n",
    "from pandarallel import pandarallel\n",
    "\n",
    "import warnings\n",
    "warnings.simplefilter(action='ignore', category=FutureWarning)\n",
    "\n",
    "pd.set_option(\"display.max_columns\", None)\n",
    "pd.set_option('display.width', 1000)\n",
    "tqdm.pandas()"
   ]
  },
  {
   "cell_type": "code",
   "execution_count": 2,
   "metadata": {},
   "outputs": [],
   "source": [
    "PAIRED_DATASETS = pd.read_csv(\"/home/pbarbosa/git_repos/mutsplice/data/2_paired_datasets/ALL_data.tsv.gz\", sep=\"\\t\")"
   ]
  },
  {
   "cell_type": "code",
   "execution_count": 3,
   "metadata": {},
   "outputs": [
    {
     "name": "stderr",
     "output_type": "stream",
     "text": [
      "2024-02-29 12:53:59.920848: I tensorflow/core/platform/cpu_feature_guard.cc:193] This TensorFlow binary is optimized with oneAPI Deep Neural Network Library (oneDNN) to use the following CPU instructions in performance-critical operations:  AVX2 FMA\n",
      "To enable them in other operations, rebuild TensorFlow with the appropriate compiler flags.\n",
      "2024-02-29 12:54:00.807409: W tensorflow/compiler/xla/stream_executor/platform/default/dso_loader.cc:64] Could not load dynamic library 'libnvinfer.so.7'; dlerror: libnvinfer.so.7: cannot open shared object file: No such file or directory\n",
      "2024-02-29 12:54:00.807488: W tensorflow/compiler/xla/stream_executor/platform/default/dso_loader.cc:64] Could not load dynamic library 'libnvinfer_plugin.so.7'; dlerror: libnvinfer_plugin.so.7: cannot open shared object file: No such file or directory\n",
      "2024-02-29 12:54:00.807493: W tensorflow/compiler/tf2tensorrt/utils/py_utils.cc:38] TF-TRT Warning: Cannot dlopen some TensorRT libraries. If you would like to use Nvidia GPU with TensorRT, please make sure the missing libraries mentioned above are installed properly.\n"
     ]
    }
   ],
   "source": [
    "from gtfhandle.utils import file_to_bed_df\n",
    "from explainer.datasets.preprocessing import Preprocessing\n",
    "import os\n",
    "\n",
    "def runMutSplice(df, rbp_name: str, exon_group: str, motif_source: str, motif_search: str):\n",
    "    GTF_CACHE = \"/home/pbarbosa/data/genomes/hg38/gtf_cache_gencode/\"\n",
    "    OUT_DIR = f\"/home/pbarbosa/git_repos/mutsplice/notebooks/2_mutsplice/{motif_source}_{motif_search}/\"\n",
    "    FASTA = \"/home/pbarbosa/data/genomes/hg38/GRCh38.primary_assembly.genome.fa\"\n",
    "\n",
    "    kwargs = {\n",
    "        \"gtf_cache\": GTF_CACHE,\n",
    "        \"fasta\": FASTA,\n",
    "        \"out_dir\": f\"{OUT_DIR}{rbp_name}_{exon_group}\",\n",
    "        \"outbasename\": f\"{rbp_name}\",\n",
    "        \"subset_rbps\": [rbp_name],\n",
    "        \"motif_source\": motif_source,\n",
    "        \"motif_search\": motif_search,\n",
    "        \"pvalue_threshold\": 0.00005,\n",
    "        \"spliceai_save_raw\": True,\n",
    "        \"spliceai_raw_results\": None,\n",
    "        \"spliceai_final_results\": None,\n",
    "        \"batch_size\": 64,\n",
    "        \"use_full_sequence\": False,\n",
    "    }\n",
    "    bed_df = file_to_bed_df(df, is_0_based=False, header=0, col_index=0)\n",
    "\n",
    "    Preprocessing(\n",
    "        bed_df,\n",
    "        do_gtf_queries=True,\n",
    "        do_motif_scanning=True,\n",
    "        do_mutations=True,\n",
    "        run_spliceai=True,\n",
    "        **kwargs,\n",
    "    )\n",
    "\n",
    "\n",
    "def process_single_RBP(group, exon_group: str, motif_source: str, motif_search: str):\n",
    "    try:\n",
    "        rbp_name = group.iloc[0].rbp_name\n",
    "        runMutSplice(\n",
    "            group,\n",
    "            rbp_name=rbp_name,\n",
    "            exon_group=exon_group,\n",
    "            motif_source=motif_source,\n",
    "            motif_search=motif_search,\n",
    "        )\n",
    "\n",
    "    except ValueError as ve:\n",
    "        print(f\"Caught ValueError for {rbp_name}: {ve}\")"
   ]
  },
  {
   "cell_type": "markdown",
   "metadata": {},
   "source": [
    "#### Knockdown exons"
   ]
  },
  {
   "cell_type": "code",
   "execution_count": 4,
   "metadata": {},
   "outputs": [
    {
     "name": "stdout",
     "output_type": "stream",
     "text": [
      "INFO: Pandarallel will run on 1 workers.\n",
      "INFO: Pandarallel will use Memory file system to transfer data between the main process and workers.\n"
     ]
    },
    {
     "data": {
      "application/vnd.jupyter.widget-view+json": {
       "model_id": "fd351994f6ea45f891c20cc7ad58b869",
       "version_major": 2,
       "version_minor": 0
      },
      "text/plain": [
       "VBox(children=(HBox(children=(IntProgress(value=0, description='0.00%', max=1), Label(value='0 / 1'))),))"
      ]
     },
     "metadata": {},
     "output_type": "display_data"
    },
    {
     "name": "stderr",
     "output_type": "stream",
     "text": [
      "\u001b[32m2024-02-28|16:11:44\u001b[0m | \u001b[35mMAIN\u001b[0m: \u001b[1mReading cache file to extract genomics features..\u001b[0m\n"
     ]
    },
    {
     "name": "stderr",
     "output_type": "stream",
     "text": [
      "\u001b[32m2024-02-28|16:11:52\u001b[0m | \u001b[35mMAIN\u001b[0m: \u001b[1mScanning motifs..\u001b[0m\n",
      "\u001b[32m2024-02-28|16:11:53\u001b[0m | \u001b[35mMAIN\u001b[0m: \u001b[1mNo single match found by FIMO.\u001b[0m\n"
     ]
    },
    {
     "name": "stdout",
     "output_type": "stream",
     "text": [
      "Caught ValueError for RBFOX2: No motifs found given this experimental setup.\n"
     ]
    },
    {
     "data": {
      "text/html": [
       "<div>\n",
       "<style scoped>\n",
       "    .dataframe tbody tr th:only-of-type {\n",
       "        vertical-align: middle;\n",
       "    }\n",
       "\n",
       "    .dataframe tbody tr th {\n",
       "        vertical-align: top;\n",
       "    }\n",
       "\n",
       "    .dataframe thead th {\n",
       "        text-align: right;\n",
       "    }\n",
       "</style>\n",
       "<table border=\"1\" class=\"dataframe\">\n",
       "  <thead>\n",
       "    <tr style=\"text-align: right;\">\n",
       "      <th></th>\n",
       "    </tr>\n",
       "  </thead>\n",
       "  <tbody>\n",
       "  </tbody>\n",
       "</table>\n",
       "</div>"
      ],
      "text/plain": [
       "Empty DataFrame\n",
       "Columns: []\n",
       "Index: []"
      ]
     },
     "execution_count": 4,
     "metadata": {},
     "output_type": "execute_result"
    }
   ],
   "source": [
    "pandarallel.initialize(progress_bar=True, nb_workers=10)\n",
    "os.environ[\"CUDA_VISIBLE_DEVICES\"] = \"0\"\n",
    "\n",
    "KD_data = PAIRED_DATASETS[PAIRED_DATASETS.exon_group == \"KD\"]\n",
    "KD_data.groupby(\"rbp_name\").parallel_apply(\n",
    "    process_single_RBP, exon_group=\"KD\", motif_source=\"ATtRACT\", motif_search=\"fimo\"\n",
    ")"
   ]
  },
  {
   "cell_type": "markdown",
   "metadata": {},
   "source": [
    "#### Control exons "
   ]
  },
  {
   "cell_type": "code",
   "execution_count": null,
   "metadata": {},
   "outputs": [],
   "source": [
    "pandarallel.initialize(progress_bar=True, nb_workers=10)\n",
    "os.environ[\"CUDA_VISIBLE_DEVICES\"] = \"0\"\n",
    "\n",
    "Ctrl_data = PAIRED_DATASETS[PAIRED_DATASETS.exon_group == \"CTRL\"]\n",
    "Ctrl_data.groupby(\"rbp_name\").parallel_apply(\n",
    "    process_single_RBP,\n",
    "    exon_group=\"CTRL\",\n",
    "    motif_source=\"ATtRACT\",\n",
    "    motif_search=\"fimo\",\n",
    ")"
   ]
  }
 ],
 "metadata": {
  "kernelspec": {
   "display_name": "mutsplice",
   "language": "python",
   "name": "python3"
  },
  "language_info": {
   "codemirror_mode": {
    "name": "ipython",
    "version": 3
   },
   "file_extension": ".py",
   "mimetype": "text/x-python",
   "name": "python",
   "nbconvert_exporter": "python",
   "pygments_lexer": "ipython3",
   "version": "3.10.12"
  }
 },
 "nbformat": 4,
 "nbformat_minor": 2
}
