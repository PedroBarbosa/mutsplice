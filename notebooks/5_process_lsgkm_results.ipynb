{
 "cells": [
  {
   "cell_type": "code",
   "execution_count": 1,
   "metadata": {},
   "outputs": [],
   "source": [
    "import pandas as pd\n",
    "import os\n",
    "from matplotlib import pyplot as plt\n",
    "from Bio import SeqIO\n",
    "from sklearn.metrics import accuracy_score, roc_auc_score, r2_score, mean_squared_error"
   ]
  },
  {
   "cell_type": "code",
   "execution_count": 2,
   "metadata": {},
   "outputs": [],
   "source": [
    "DATA_PATH = \"/home/pbarbosa/git_repos/mutsplice/notebooks/4_all_gappedKmers\"\n",
    "DIRS = [os.path.join(DATA_PATH, dir) for dir in os.listdir(DATA_PATH) if os.path.isdir(os.path.join(DATA_PATH, dir))]"
   ]
  },
  {
   "cell_type": "markdown",
   "metadata": {},
   "source": [
    "#### Classification (exon group)"
   ]
  },
  {
   "cell_type": "code",
   "execution_count": 3,
   "metadata": {},
   "outputs": [],
   "source": [
    "out = []\n",
    "for rbp_dir in DIRS:\n",
    "    rbp_name = os.path.basename(rbp_dir)\n",
    "    _rbp_dir = rbp_dir + \"/clf\"\n",
    "\n",
    "    # gkm\n",
    "    cols = [\"seq_id\", \"pred\", \"label\", \"cvset\"]\n",
    "    gkm_cv = pd.read_csv(\n",
    "        os.path.join(_rbp_dir, \"out_gkm.cvpred.txt\"), sep=\"\\t\", header=None\n",
    "    )\n",
    "    gkm_cv.columns = cols\n",
    "    gkm_cv[\"pred_binary\"] = gkm_cv[\"pred\"].apply(lambda x: 1 if x > 0 else -1)\n",
    "    gkm_score = accuracy_score(gkm_cv[\"label\"], gkm_cv[\"pred_binary\"])\n",
    "    #gkm_auc = roc_auc_score(gkm_cv[\"label\"], gkm_cv[\"pred\"])\n",
    "\n",
    "    # gkmrbf\n",
    "    gkmrbf_cv = pd.read_csv(\n",
    "        os.path.join(_rbp_dir, \"out_gkmrbf.cvpred.txt\"), sep=\"\\t\", header=None\n",
    "    )\n",
    "    gkmrbf_cv.columns = cols\n",
    "    gkmrbf_cv[\"pred_binary\"] = gkmrbf_cv[\"pred\"].apply(lambda x: 1 if x > 0 else -1)\n",
    "    gkmrbf_score = accuracy_score(gkmrbf_cv[\"label\"], gkmrbf_cv[\"pred_binary\"])\n",
    "    #gkmrbf_auc = roc_auc_score(gkmrbf_cv[\"label\"], gkmrbf_cv[\"pred\"])\n",
    "\n",
    "    out.append([rbp_name, \"Gapped_Kmers\", \"LineargkmSVMClassifier\", gkm_score, None, None, None])\n",
    "    out.append([rbp_name, \"Gapped_Kmers\", \"NonLineargkmSVMClassifier\", gkmrbf_score, None, None, None])\n",
    "\n",
    "clf_df = pd.DataFrame(out, columns=[\"rbp_name\", \"dataset_type\", \"model\", \"score\", \"pval\", \"feat_import\", \"features\"])"
   ]
  },
  {
   "cell_type": "markdown",
   "metadata": {},
   "source": [
    "#### Regression (SpliceAI score)"
   ]
  },
  {
   "cell_type": "code",
   "execution_count": 4,
   "metadata": {},
   "outputs": [],
   "source": [
    "out = []\n",
    "for rbp_dir in DIRS:\n",
    "    rbp_name = os.path.basename(rbp_dir)\n",
    "    _rbp_dir = rbp_dir + \"/regr\"\n",
    "\n",
    "    # gkm\n",
    "    cols = [\"seq_id\", \"pred\", \"label\", \"cvset\"]\n",
    "    gkm_cv = pd.read_csv(\n",
    "        os.path.join(_rbp_dir, \"out_gkm.cvpred.txt\"), sep=\"\\t\", header=None\n",
    "    )\n",
    "    gkm_cv.columns = cols\n",
    "    gkm_score = r2_score(gkm_cv[\"label\"], gkm_cv[\"pred\"])\n",
    "    #gkm_score = mean_squared_error(gkm_cv[\"label\"], gkm_cv[\"pred\"])\n",
    "\n",
    "    # gkmrbf\n",
    "    gkmrbf_cv = pd.read_csv(\n",
    "        os.path.join(_rbp_dir, \"out_gkmrbf.cvpred.txt\"), sep=\"\\t\", header=None\n",
    "    )\n",
    "    gkmrbf_cv.columns = cols\n",
    "    gkmrbf_score = r2_score(gkmrbf_cv[\"label\"], gkmrbf_cv[\"pred\"])\n",
    "    #gkmrbf_score = mean_squared_error(gkmrbf_cv[\"label\"], gkmrbf_cv[\"pred\"])\n",
    "\n",
    "    out.append([rbp_name, \"Gapped_Kmers\", \"LineargkmSVMRegressor\", gkm_score, None, None, None])\n",
    "    out.append([rbp_name, \"Gapped_Kmers\", \"NonLineargkmSVMRegressor\", gkmrbf_score, None, None, None])\n",
    "\n",
    "regr_df = pd.DataFrame(out, columns=[\"rbp_name\", \"dataset_type\", \"model\", \"score\", \"pval\", \"feat_import\", \"features\"])"
   ]
  },
  {
   "cell_type": "code",
   "execution_count": 5,
   "metadata": {},
   "outputs": [],
   "source": [
    "df = pd.concat([clf_df, regr_df])"
   ]
  },
  {
   "cell_type": "code",
   "execution_count": 7,
   "metadata": {},
   "outputs": [],
   "source": [
    "df.to_csv(\"5_ml_results/5_results_lsgkm_all_rbps.csv\", index=False)"
   ]
  }
 ],
 "metadata": {
  "kernelspec": {
   "display_name": "mutsplice",
   "language": "python",
   "name": "python3"
  },
  "language_info": {
   "codemirror_mode": {
    "name": "ipython",
    "version": 3
   },
   "file_extension": ".py",
   "mimetype": "text/x-python",
   "name": "python",
   "nbconvert_exporter": "python",
   "pygments_lexer": "ipython3",
   "version": "3.10.14"
  }
 },
 "nbformat": 4,
 "nbformat_minor": 2
}
