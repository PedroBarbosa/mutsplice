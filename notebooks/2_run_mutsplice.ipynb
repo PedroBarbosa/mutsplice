{
 "cells": [
  {
   "cell_type": "code",
   "execution_count": null,
   "metadata": {},
   "outputs": [],
   "source": [
    "import pandas as pd \n",
    "import seaborn as sns\n",
    "sns.set(font_scale=1)\n",
    "from plotnine import *\n",
    "from tqdm.notebook import tqdm\n",
    "import seaborn as sns\n",
    "import pandas as pd\n",
    "from pandarallel import pandarallel\n",
    "\n",
    "import warnings\n",
    "warnings.simplefilter(action='ignore', category=FutureWarning)\n",
    "\n",
    "pd.set_option(\"display.max_columns\", None)\n",
    "pd.set_option('display.width', 1000)\n",
    "tqdm.pandas()"
   ]
  },
  {
   "cell_type": "code",
   "execution_count": null,
   "metadata": {},
   "outputs": [],
   "source": [
    "PAIRED_DATASETS = pd.read_csv(\"/home/pbarbosa/git_repos/mutsplice/data/2_paired_datasets/ALL_data.tsv.gz\", sep=\"\\t\")"
   ]
  },
  {
   "cell_type": "code",
   "execution_count": null,
   "metadata": {},
   "outputs": [],
   "source": [
    "from gtfhandle.utils import file_to_bed_df\n",
    "from explainer.datasets.preprocessing import Preprocessing\n",
    "import os\n",
    "\n",
    "def runMutSplice(df, rbp_name: str, exon_group: str, motif_source: str, motif_search: str):\n",
    "    GTF_CACHE = \"/home/pbarbosa/data/genomes/hg38/gtf_cache_gencode/\"\n",
    "    OUT_DIR = f\"/big_data/pbarbosa/mutsplice/{motif_source}_{motif_search}/\"\n",
    "    FASTA = \"/home/pbarbosa/data/genomes/hg38/GRCh38.primary_assembly.genome.fa\"\n",
    "\n",
    "    kwargs = {\n",
    "        \"gtf_cache\": GTF_CACHE,\n",
    "        \"fasta\": FASTA,\n",
    "        \"out_dir\": f\"{OUT_DIR}{rbp_name}_{exon_group}\",\n",
    "        \"outbasename\": f\"{rbp_name}\",\n",
    "        \"subset_rbps\": [rbp_name],\n",
    "        \"motif_source\": motif_source,\n",
    "        \"motif_search\": motif_search,\n",
    "        \"qvalue_threshold\": 0.05,\n",
    "        \"spliceai_save_raw\": True,\n",
    "        \"spliceai_raw_results\": None,\n",
    "        \"spliceai_final_results\": None,\n",
    "        \"batch_size\": 64,\n",
    "        \"use_full_sequence\": False,\n",
    "    }\n",
    "    bed_df = file_to_bed_df(df, is_0_based=False, header=0, col_index=0)\n",
    "\n",
    "    Preprocessing(\n",
    "        bed_df,\n",
    "        do_gtf_queries=True,\n",
    "        do_motif_scanning=True,\n",
    "        do_mutations=True,\n",
    "        run_spliceai=True,\n",
    "        **kwargs,\n",
    "    )\n",
    "\n",
    "\n",
    "def process_single_RBP(group, exon_group: str, motif_source: str, motif_search: str):\n",
    "    try:\n",
    "        rbp_name = group.iloc[0].rbp_name\n",
    "        runMutSplice(\n",
    "            group,\n",
    "            rbp_name=rbp_name,\n",
    "            exon_group=exon_group,\n",
    "            motif_source=motif_source,\n",
    "            motif_search=motif_search,\n",
    "        )\n",
    "\n",
    "    except ValueError as ve:\n",
    "        print(f\"Caught ValueError for {rbp_name}: {ve}\")"
   ]
  },
  {
   "cell_type": "markdown",
   "metadata": {},
   "source": [
    "#### Knockdown exons"
   ]
  },
  {
   "cell_type": "code",
   "execution_count": null,
   "metadata": {},
   "outputs": [],
   "source": [
    "pandarallel.initialize(progress_bar=True, nb_workers=1)\n",
    "os.environ[\"CUDA_VISIBLE_DEVICES\"] = \"0\"\n",
    "\n",
    "KD_data = PAIRED_DATASETS[PAIRED_DATASETS.exon_group == \"KD\"]\n",
    "ALREADY_DONE = [\n",
    "    \"ADAR\",\n",
    "    \"AKAP8L\",\n",
    "    \"BUD13\",\n",
    "    \"CCAR2\",\n",
    "    \"CDC40\",\n",
    "    \"CELF1\",\n",
    "    \"DAZAP1\",\n",
    "    \"DDX20\",\n",
    "    \"DDX5\",\n",
    "    \"EFTUD2\",\n",
    "    \"EWSR1\",\n",
    "    \"FMR1\",\n",
    "    \"FUBP1\",\n",
    "    \"FUS\",\n",
    "    \"GEMIN5\",\n",
    "    \"GPKOW\",\n",
    "    \"HNRNPA1\",\n",
    "    \"HNRNPA2B1\",\n",
    "    \"HNRNPC\",\n",
    "    \"HNRNPD\",\n",
    "    \"HNRNPF\",\n",
    "    \"HNRNPH1\",\n",
    "    \"HNRNPK\",\n",
    "]\n",
    "KD_data = KD_data[~KD_data.rbp_name.isin(ALREADY_DONE)]\n",
    "KD_data.groupby(\"rbp_name\").parallel_apply(\n",
    "    process_single_RBP, exon_group=\"KD\", motif_source=\"rosina2017\", motif_search=\"plain\"\n",
    ")"
   ]
  },
  {
   "cell_type": "markdown",
   "metadata": {},
   "source": [
    "#### Control exons "
   ]
  },
  {
   "cell_type": "code",
   "execution_count": null,
   "metadata": {},
   "outputs": [],
   "source": [
    "pandarallel.initialize(progress_bar=True, nb_workers=1)\n",
    "os.environ[\"CUDA_VISIBLE_DEVICES\"] = \"0\"\n",
    "\n",
    "Ctrl_data = PAIRED_DATASETS[PAIRED_DATASETS.exon_group == \"CTRL\"]\n",
    "Ctrl_data.groupby(\"rbp_name\").parallel_apply(\n",
    "    process_single_RBP,\n",
    "    exon_group=\"CTRL\",\n",
    "    motif_source=\"rosina2017\",\n",
    "    motif_search=\"plain\",\n",
    ")"
   ]
  }
 ],
 "metadata": {
  "kernelspec": {
   "display_name": "mutsplice",
   "language": "python",
   "name": "python3"
  },
  "language_info": {
   "codemirror_mode": {
    "name": "ipython",
    "version": 3
   },
   "file_extension": ".py",
   "mimetype": "text/x-python",
   "name": "python",
   "nbconvert_exporter": "python",
   "pygments_lexer": "ipython3",
   "version": "3.10.13"
  }
 },
 "nbformat": 4,
 "nbformat_minor": 2
}
